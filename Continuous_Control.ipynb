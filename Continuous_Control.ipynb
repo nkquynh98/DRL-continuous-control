{
 "cells": [
  {
   "cell_type": "markdown",
   "metadata": {},
   "source": [
    "# Continuous Control\n",
    "\n",
    "---\n",
    "\n",
    "In this notebook, you will learn how to use the Unity ML-Agents environment for the second project of the [Deep Reinforcement Learning Nanodegree](https://www.udacity.com/course/deep-reinforcement-learning-nanodegree--nd893) program.\n",
    "\n",
    "### 1. Start the Environment\n",
    "\n",
    "We begin by importing the necessary packages.  If the code cell below returns an error, please revisit the project instructions to double-check that you have installed [Unity ML-Agents](https://github.com/Unity-Technologies/ml-agents/blob/master/docs/Installation.md) and [NumPy](http://www.numpy.org/)."
   ]
  },
  {
   "cell_type": "code",
   "execution_count": 1,
   "metadata": {},
   "outputs": [],
   "source": [
    "from unityagents import UnityEnvironment\n",
    "import numpy as np\n",
    "import torch\n",
    "import random\n",
    "from collections import deque\n",
    "import matplotlib.pyplot as plt\n",
    "import sys\n",
    "import os\n",
    "%matplotlib inline"
   ]
  },
  {
   "cell_type": "markdown",
   "metadata": {},
   "source": [
    "Next, we will start the environment!  **_Before running the code cell below_**, change the `file_name` parameter to match the location of the Unity environment that you downloaded.\n",
    "\n",
    "- **Mac**: `\"path/to/Reacher.app\"`\n",
    "- **Windows** (x86): `\"path/to/Reacher_Windows_x86/Reacher.exe\"`\n",
    "- **Windows** (x86_64): `\"path/to/Reacher_Windows_x86_64/Reacher.exe\"`\n",
    "- **Linux** (x86): `\"path/to/Reacher_Linux/Reacher.x86\"`\n",
    "- **Linux** (x86_64): `\"path/to/Reacher_Linux/Reacher.x86_64\"`\n",
    "- **Linux** (x86, headless): `\"path/to/Reacher_Linux_NoVis/Reacher.x86\"`\n",
    "- **Linux** (x86_64, headless): `\"path/to/Reacher_Linux_NoVis/Reacher.x86_64\"`\n",
    "\n",
    "For instance, if you are using a Mac, then you downloaded `Reacher.app`.  If this file is in the same folder as the notebook, then the line below should appear as follows:\n",
    "```\n",
    "env = UnityEnvironment(file_name=\"Reacher.app\")\n",
    "```"
   ]
  },
  {
   "cell_type": "code",
   "execution_count": 2,
   "metadata": {},
   "outputs": [
    {
     "name": "stderr",
     "output_type": "stream",
     "text": [
      "INFO:unityagents:\n",
      "'Academy' started successfully!\n",
      "Unity Academy name: Academy\n",
      "        Number of Brains: 1\n",
      "        Number of External Brains : 1\n",
      "        Lesson number : 0\n",
      "        Reset Parameters :\n",
      "\t\tgoal_speed -> 1.0\n",
      "\t\tgoal_size -> 5.0\n",
      "Unity brain name: ReacherBrain\n",
      "        Number of Visual Observations (per agent): 0\n",
      "        Vector Observation space type: continuous\n",
      "        Vector Observation space size (per agent): 33\n",
      "        Number of stacked Vector Observation: 1\n",
      "        Vector Action space type: continuous\n",
      "        Vector Action space size (per agent): 4\n",
      "        Vector Action descriptions: , , , \n"
     ]
    }
   ],
   "source": [
    "#env = UnityEnvironment(file_name='/home/nkquynh/DRL/Reacher_Linux_20/Reacher_Linux/Reacher.x86_64')\n",
    "#env = UnityEnvironment(file_name='/home/nkquynh/DRL/Reacher_Linux/Reacher.x86_64')\n",
    "\n",
    "env = UnityEnvironment(file_name='/home/nkquynh/DRL/Reacher_Linux_NoVis/Reacher.x86_64')"
   ]
  },
  {
   "cell_type": "markdown",
   "metadata": {},
   "source": [
    "Environments contain **_brains_** which are responsible for deciding the actions of their associated agents. Here we check for the first brain available, and set it as the default brain we will be controlling from Python."
   ]
  },
  {
   "cell_type": "code",
   "execution_count": 3,
   "metadata": {},
   "outputs": [],
   "source": [
    "# get the default brain\n",
    "brain_name = env.brain_names[0]\n",
    "brain = env.brains[brain_name]"
   ]
  },
  {
   "cell_type": "markdown",
   "metadata": {},
   "source": [
    "### 2. Examine the State and Action Spaces\n",
    "\n",
    "In this environment, a double-jointed arm can move to target locations. A reward of `+0.1` is provided for each step that the agent's hand is in the goal location. Thus, the goal of your agent is to maintain its position at the target location for as many time steps as possible.\n",
    "\n",
    "The observation space consists of `33` variables corresponding to position, rotation, velocity, and angular velocities of the arm.  Each action is a vector with four numbers, corresponding to torque applicable to two joints.  Every entry in the action vector must be a number between `-1` and `1`.\n",
    "\n",
    "Run the code cell below to print some information about the environment."
   ]
  },
  {
   "cell_type": "code",
   "execution_count": 4,
   "metadata": {},
   "outputs": [
    {
     "name": "stdout",
     "output_type": "stream",
     "text": [
      "Number of agents: 20\n",
      "Size of each action: 4\n",
      "There are 20 agents. Each observes a state with length: 33\n",
      "The state for the first agent looks like: [ 0.00000000e+00 -4.00000000e+00  0.00000000e+00  1.00000000e+00\n",
      " -0.00000000e+00 -0.00000000e+00 -4.37113883e-08  0.00000000e+00\n",
      "  0.00000000e+00  0.00000000e+00  0.00000000e+00  0.00000000e+00\n",
      "  0.00000000e+00  0.00000000e+00 -1.00000000e+01  0.00000000e+00\n",
      "  1.00000000e+00 -0.00000000e+00 -0.00000000e+00 -4.37113883e-08\n",
      "  0.00000000e+00  0.00000000e+00  0.00000000e+00  0.00000000e+00\n",
      "  0.00000000e+00  0.00000000e+00  5.75471878e+00 -1.00000000e+00\n",
      "  5.55726624e+00  0.00000000e+00  1.00000000e+00  0.00000000e+00\n",
      " -1.68164849e-01]\n"
     ]
    }
   ],
   "source": [
    "# reset the environment\n",
    "env_info = env.reset(train_mode=True)[brain_name]\n",
    "\n",
    "# number of agents\n",
    "num_agents = len(env_info.agents)\n",
    "print('Number of agents:', num_agents)\n",
    "\n",
    "# size of each action\n",
    "action_size = brain.vector_action_space_size\n",
    "print('Size of each action:', action_size)\n",
    "\n",
    "# examine the state space \n",
    "states = env_info.vector_observations\n",
    "state_size = states.shape[1]\n",
    "print('There are {} agents. Each observes a state with length: {}'.format(states.shape[0], state_size))\n",
    "print('The state for the first agent looks like:', states[0])"
   ]
  },
  {
   "cell_type": "markdown",
   "metadata": {},
   "source": [
    "### 3. Training the Agent\n",
    "\n",
    "In the next code cell, the agent will be trained"
   ]
  },
  {
   "cell_type": "code",
   "execution_count": 5,
   "metadata": {},
   "outputs": [],
   "source": [
    "from DDPG_Agent import DDPG_Agent\n",
    "agent = DDPG_Agent(num_agents, state_size, action_size, random_seed = 0)\n",
    "\n",
    "#!pip install progressbar\n",
    "import progressbar as pb\n",
    "widget1 = ['training loop ', pb.Counter(), ' : ', pb.Percentage(), ' ', \n",
    "          pb.Bar(), ' ', pb.ETA()]\n",
    "widget2 = ['inner loop: ', pb.Percentage(), ' ', \n",
    "          pb.Bar(), ' ', pb.ETA()]\n",
    "from IPython.display import clear_output"
   ]
  },
  {
   "cell_type": "code",
   "execution_count": 6,
   "metadata": {},
   "outputs": [
    {
     "name": "stderr",
     "output_type": "stream",
     "text": [
      "training loop 6 :   2% |                                        | ETA:  3:29:08\r"
     ]
    },
    {
     "name": "stdout",
     "output_type": "stream",
     "text": [
      "\r",
      "Episode 5\tAverage Score: 2.84\t The current score: 7.39\n"
     ]
    },
    {
     "name": "stderr",
     "output_type": "stream",
     "text": [
      "training loop 11 :   3% |#                                      | ETA:  3:53:13\r"
     ]
    },
    {
     "name": "stdout",
     "output_type": "stream",
     "text": [
      "\r",
      "Episode 10\tAverage Score: 12.04\t The current score: 29.95\n"
     ]
    },
    {
     "name": "stderr",
     "output_type": "stream",
     "text": [
      "training loop 16 :   5% |##                                     | ETA:  4:09:16\r"
     ]
    },
    {
     "name": "stdout",
     "output_type": "stream",
     "text": [
      "\r",
      "Episode 15\tAverage Score: 19.58\t The current score: 37.22\n"
     ]
    },
    {
     "name": "stderr",
     "output_type": "stream",
     "text": [
      "training loop 21 :   7% |##                                     | ETA:  4:22:56\r"
     ]
    },
    {
     "name": "stdout",
     "output_type": "stream",
     "text": [
      "\r",
      "Episode 20\tAverage Score: 23.95\t The current score: 36.98\n"
     ]
    },
    {
     "name": "stderr",
     "output_type": "stream",
     "text": [
      "training loop 26 :   8% |###                                    | ETA:  4:35:27\r"
     ]
    },
    {
     "name": "stdout",
     "output_type": "stream",
     "text": [
      "\r",
      "Episode 25\tAverage Score: 26.56\t The current score: 36.50\n"
     ]
    },
    {
     "name": "stderr",
     "output_type": "stream",
     "text": [
      "training loop 31 :  10% |####                                   | ETA:  4:47:07\r"
     ]
    },
    {
     "name": "stdout",
     "output_type": "stream",
     "text": [
      "\r",
      "Episode 30\tAverage Score: 28.25\t The current score: 36.72\n"
     ]
    },
    {
     "name": "stderr",
     "output_type": "stream",
     "text": [
      "training loop 36 :  12% |####                                   | ETA:  4:57:49\r"
     ]
    },
    {
     "name": "stdout",
     "output_type": "stream",
     "text": [
      "\r",
      "Episode 35\tAverage Score: 29.51\t The current score: 37.19\n"
     ]
    },
    {
     "name": "stderr",
     "output_type": "stream",
     "text": [
      "training loop 300 : 100% |######################################| Time: 0:45:26\r"
     ]
    },
    {
     "name": "stdout",
     "output_type": "stream",
     "text": [
      "The environment is solved in 38 steps and average score is: 30.127157221342383\n"
     ]
    },
    {
     "name": "stderr",
     "output_type": "stream",
     "text": [
      "\n"
     ]
    }
   ],
   "source": [
    "def DDPG_Learning(num_episode = 300, max_t = 1000):\n",
    "    scores_windows = deque(maxlen = 100)\n",
    "    scores_array = []\n",
    "    print_every =  5\n",
    "    timer1 = pb.ProgressBar(widgets=widget1, maxval=num_episode).start()\n",
    "    #timer2 = pb.ProgressBar(widgets=widget2, maxval=max_t)\n",
    "    #timer1.update(0)\n",
    "    for i_episode in range(1, num_episode+1):\n",
    "        \n",
    "        #print('Episode {}\\tAverage Score: {:.2f}'.format(i_episode, np.mean(scores_windows))) \n",
    "        #timer2.start()\n",
    "        #print('\\r')\n",
    "        timer1.update(i_episode)\n",
    "        #print(i_episode)\n",
    "        \n",
    "        env_info = env.reset(train_mode=True)[brain_name]     # reset the environment    \n",
    "        states = env_info.vector_observations                  # get the current state (for each agent)\n",
    "        scores = np.zeros(num_agents)                          # initialize the score (for each agent)\n",
    "        agent.reset()                                         # Important: Reset the noise value\n",
    "        for t in range(max_t):\n",
    "            #actions = np.random.randn(num_agents, action_size) # select an action (for each agent)\n",
    "            #actions = np.clip(actions, -1, 1)                  # all actions between -1 and 1\n",
    "            actions = agent.act(states)\n",
    "            env_info = env.step(actions)[brain_name]           # send all actions to tne environment\n",
    "            next_states = env_info.vector_observations         # get next state (for each agent)\n",
    "            rewards = env_info.rewards                         # get reward (for each agent)\n",
    "            dones = env_info.local_done                        # see if episode finished\n",
    "            for i_agent in range(len(env_info.agents)):                      # update the network based on each agent\n",
    "                agent.step(states[i_agent], actions[i_agent], rewards[i_agent], next_states[i_agent], dones[i_agent])\n",
    "            \n",
    "            scores += env_info.rewards                         # update the score (for each agent)\n",
    "            states = next_states                               # roll over states to next time step\n",
    "            #print(t)\n",
    "            #timer2.update(t+1)\n",
    "            if np.any(dones):                                  # exit loop if episode finished\n",
    "                break\n",
    "            \n",
    "        #timer2.finish()\n",
    "        avg_current_score = np.mean(scores)\n",
    "        scores_windows.append(avg_current_score)\n",
    "        scores_array.append(avg_current_score)\n",
    "        if (i_episode % print_every == 0):\n",
    "            torch.save(agent.actor_local.state_dict(), 'checkpoint_actor.pth')\n",
    "            torch.save(agent.critic_local.state_dict(), 'checkpoint_critic.pth')\n",
    "            torch.save(scores_array, 'score.pth')\n",
    "            torch.save(i_episode, 'i_episode')\n",
    "            print('\\rEpisode {}\\tAverage Score: {:.2f}\\t The current score: {:.2f}'.format(i_episode, np.mean(scores_windows),avg_current_score))   \n",
    "        if (np.mean(scores_windows)>= 30.0):\n",
    "            print('The environment is solved in {} steps and average score is: {}'.format(i_episode, np.mean(scores_windows)))\n",
    "            torch.save(agent.actor_local.state_dict(), 'checkpoint_actor.pth')\n",
    "            torch.save(agent.critic_local.state_dict(), 'checkpoint_critic.pth')\n",
    "            break\n",
    "        \n",
    "        #timer1.update(i_episode)\n",
    "        #clear_output(wait=True)\n",
    "        #print('Episode {}\\tAverage Score: {:.2f}'.format(i_episode, np.mean(scores_windows)))\n",
    "        #print('Episode {}\\tAverage Score: {:.2f}'.format(i_episode, np.mean(scores_windows)))  \n",
    "    #timer2.finish()\n",
    "    timer1.finish()\n",
    "    return scores_array     \n",
    "\n",
    "score = DDPG_Learning(max_t = 1000)\n"
   ]
  },
  {
   "cell_type": "code",
   "execution_count": 7,
   "metadata": {},
   "outputs": [
    {
     "data": {
      "image/png": "[encoded data removed]",
      "text/plain": [
       "<Figure size 432x288 with 1 Axes>"
      ]
     },
     "metadata": {
      "needs_background": "light"
     },
     "output_type": "display_data"
    }
   ],
   "source": [
    "fig = plt.figure()\n",
    "ax = fig.add_subplot(111)\n",
    "plt.plot(np.arange(1, len(score)+1), score)\n",
    "plt.ylabel('Score')\n",
    "plt.xlabel('Episode #')\n",
    "plt.show()"
   ]
  },
  {
   "cell_type": "markdown",
   "metadata": {},
   "source": [
    "When finished, you can close the environment."
   ]
  },
  {
   "cell_type": "code",
   "execution_count": 11,
   "metadata": {},
   "outputs": [
    {
     "ename": "UnityEnvironmentException",
     "evalue": "No Unity environment is loaded.",
     "output_type": "error",
     "traceback": [
      "\u001b[0;31m---------------------------------------------------------------------------\u001b[0m",
      "\u001b[0;31mUnityEnvironmentException\u001b[0m                 Traceback (most recent call last)",
      "\u001b[0;32m<ipython-input-11-1baceacf4cb1>\u001b[0m in \u001b[0;36m<module>\u001b[0;34m\u001b[0m\n\u001b[0;32m----> 1\u001b[0;31m \u001b[0menv\u001b[0m\u001b[0;34m.\u001b[0m\u001b[0mclose\u001b[0m\u001b[0;34m(\u001b[0m\u001b[0;34m)\u001b[0m\u001b[0;34m\u001b[0m\u001b[0;34m\u001b[0m\u001b[0m\n\u001b[0m",
      "\u001b[0;32m~/anaconda3/envs/drlnd/lib/python3.6/site-packages/unityagents/environment.py\u001b[0m in \u001b[0;36mclose\u001b[0;34m(self)\u001b[0m\n\u001b[1;32m    392\u001b[0m             \u001b[0mself\u001b[0m\u001b[0;34m.\u001b[0m\u001b[0m_close\u001b[0m\u001b[0;34m(\u001b[0m\u001b[0;34m)\u001b[0m\u001b[0;34m\u001b[0m\u001b[0;34m\u001b[0m\u001b[0m\n\u001b[1;32m    393\u001b[0m         \u001b[0;32melse\u001b[0m\u001b[0;34m:\u001b[0m\u001b[0;34m\u001b[0m\u001b[0;34m\u001b[0m\u001b[0m\n\u001b[0;32m--> 394\u001b[0;31m             \u001b[0;32mraise\u001b[0m \u001b[0mUnityEnvironmentException\u001b[0m\u001b[0;34m(\u001b[0m\u001b[0;34m\"No Unity environment is loaded.\"\u001b[0m\u001b[0;34m)\u001b[0m\u001b[0;34m\u001b[0m\u001b[0;34m\u001b[0m\u001b[0m\n\u001b[0m\u001b[1;32m    395\u001b[0m \u001b[0;34m\u001b[0m\u001b[0m\n\u001b[1;32m    396\u001b[0m     \u001b[0;32mdef\u001b[0m \u001b[0m_close\u001b[0m\u001b[0;34m(\u001b[0m\u001b[0mself\u001b[0m\u001b[0;34m)\u001b[0m\u001b[0;34m:\u001b[0m\u001b[0;34m\u001b[0m\u001b[0;34m\u001b[0m\u001b[0m\n",
      "\u001b[0;31mUnityEnvironmentException\u001b[0m: No Unity environment is loaded."
     ]
    }
   ],
   "source": [
    "env.close()"
   ]
  },
  {
   "cell_type": "markdown",
   "metadata": {},
   "source": [
    "### 4. Test the environment\n"
   ]
  },
  {
   "cell_type": "code",
   "execution_count": 1,
   "metadata": {},
   "outputs": [
    {
     "name": "stderr",
     "output_type": "stream",
     "text": [
      "INFO:unityagents:\n",
      "'Academy' started successfully!\n",
      "Unity Academy name: Academy\n",
      "        Number of Brains: 1\n",
      "        Number of External Brains : 1\n",
      "        Lesson number : 0\n",
      "        Reset Parameters :\n",
      "\t\tgoal_size -> 5.0\n",
      "\t\tgoal_speed -> 1.0\n",
      "Unity brain name: ReacherBrain\n",
      "        Number of Visual Observations (per agent): 0\n",
      "        Vector Observation space type: continuous\n",
      "        Vector Observation space size (per agent): 33\n",
      "        Number of stacked Vector Observation: 1\n",
      "        Vector Action space type: continuous\n",
      "        Vector Action space size (per agent): 4\n",
      "        Vector Action descriptions: , , , \n"
     ]
    },
    {
     "name": "stdout",
     "output_type": "stream",
     "text": [
      "Number of agents: 20\n",
      "Size of each action: 4\n",
      "Loaded the previous saved actor network\n",
      "Loaded the previous saved critic network\n"
     ]
    }
   ],
   "source": [
    "from unityagents import UnityEnvironment\n",
    "import numpy as np\n",
    "import torch\n",
    "import random\n",
    "from collections import deque\n",
    "import matplotlib.pyplot as plt\n",
    "import sys\n",
    "import os\n",
    "%matplotlib inline\n",
    "from DDPG_Agent import DDPG_Agent\n",
    "\n",
    "\n",
    "env = UnityEnvironment(file_name='/home/nkquynh/DRL/Reacher_Linux_20/Reacher_Linux/Reacher.x86_64')\n",
    "brain_name = env.brain_names[0]\n",
    "brain = env.brains[brain_name]\n",
    "env_info = env.reset(train_mode=True)[brain_name]\n",
    "# number of agents\n",
    "num_agents = len(env_info.agents)\n",
    "print('Number of agents:', num_agents)\n",
    "# size of each action\n",
    "action_size = brain.vector_action_space_size\n",
    "print('Size of each action:', action_size)\n",
    "\n",
    "# examine the state space \n",
    "states = env_info.vector_observations\n",
    "state_size = states.shape[1]\n",
    "\n",
    "\n",
    "agent_test = DDPG_Agent(num_agents, state_size, action_size, random_seed = 0)\n",
    "\n",
    "if os.path.isfile('checkpoint_actor.pth'):\n",
    "    agent_test.actor_local.load_state_dict(torch.load('checkpoint_actor.pth'))\n",
    "    agent_test.actor_target.load_state_dict(torch.load('checkpoint_actor.pth'))\n",
    "    print(\"Loaded the previous saved actor network\")\n",
    "    \n",
    "if os.path.isfile('checkpoint_critic.pth'):\n",
    "    agent_test.critic_local.load_state_dict(torch.load('checkpoint_critic.pth'))\n",
    "    agent_test.critic_target.load_state_dict(torch.load('checkpoint_critic.pth'))\n",
    "    print(\"Loaded the previous saved critic network\")"
   ]
  },
  {
   "cell_type": "code",
   "execution_count": 3,
   "metadata": {
    "scrolled": true
   },
   "outputs": [
    {
     "name": "stdout",
     "output_type": "stream",
     "text": [
      "Episode 0\tAverage Score: 37.02\t The current score: 37.02\n",
      "Episode 1\tAverage Score: 36.84\t The current score: 36.66\n",
      "Episode 2\tAverage Score: 36.90\t The current score: 37.04\n",
      "Episode 3\tAverage Score: 37.02\t The current score: 37.37\n",
      "Episode 4\tAverage Score: 37.05\t The current score: 37.16\n",
      "Episode 5\tAverage Score: 37.17\t The current score: 37.77\n",
      "Episode 6\tAverage Score: 37.20\t The current score: 37.36\n",
      "Episode 7\tAverage Score: 37.19\t The current score: 37.17\n",
      "Episode 8\tAverage Score: 37.16\t The current score: 36.94\n",
      "Episode 9\tAverage Score: 37.14\t The current score: 36.88\n",
      "Episode 10\tAverage Score: 37.14\t The current score: 37.22\n",
      "Episode 11\tAverage Score: 37.14\t The current score: 37.05\n",
      "Episode 12\tAverage Score: 37.10\t The current score: 36.73\n",
      "Episode 13\tAverage Score: 37.13\t The current score: 37.51\n",
      "Episode 14\tAverage Score: 37.16\t The current score: 37.47\n",
      "Episode 15\tAverage Score: 37.18\t The current score: 37.48\n",
      "Episode 16\tAverage Score: 37.14\t The current score: 36.61\n",
      "Episode 17\tAverage Score: 37.14\t The current score: 37.13\n",
      "Episode 18\tAverage Score: 37.12\t The current score: 36.80\n",
      "Episode 19\tAverage Score: 37.11\t The current score: 36.85\n",
      "Episode 20\tAverage Score: 37.12\t The current score: 37.28\n",
      "Episode 21\tAverage Score: 37.12\t The current score: 37.19\n",
      "Episode 22\tAverage Score: 37.11\t The current score: 36.79\n",
      "Episode 23\tAverage Score: 37.11\t The current score: 37.21\n",
      "Episode 24\tAverage Score: 37.11\t The current score: 37.17\n",
      "Episode 25\tAverage Score: 37.12\t The current score: 37.30\n",
      "Episode 26\tAverage Score: 37.14\t The current score: 37.69\n",
      "Episode 27\tAverage Score: 37.14\t The current score: 37.13\n",
      "Episode 28\tAverage Score: 37.12\t The current score: 36.47\n",
      "Episode 29\tAverage Score: 37.12\t The current score: 37.21\n",
      "Episode 30\tAverage Score: 37.13\t The current score: 37.49\n",
      "Episode 31\tAverage Score: 37.13\t The current score: 37.13\n",
      "Episode 32\tAverage Score: 37.13\t The current score: 37.18\n",
      "Episode 33\tAverage Score: 37.14\t The current score: 37.17\n",
      "Episode 34\tAverage Score: 37.12\t The current score: 36.51\n",
      "Episode 35\tAverage Score: 37.12\t The current score: 37.33\n",
      "Episode 36\tAverage Score: 37.14\t The current score: 37.56\n",
      "Episode 37\tAverage Score: 37.14\t The current score: 37.34\n",
      "Episode 38\tAverage Score: 37.14\t The current score: 37.04\n",
      "Episode 39\tAverage Score: 37.14\t The current score: 37.06\n",
      "Episode 40\tAverage Score: 37.13\t The current score: 36.68\n",
      "Episode 41\tAverage Score: 37.12\t The current score: 36.73\n",
      "Episode 42\tAverage Score: 37.11\t The current score: 36.97\n",
      "Episode 43\tAverage Score: 37.11\t The current score: 37.08\n",
      "Episode 44\tAverage Score: 37.11\t The current score: 37.22\n",
      "Episode 45\tAverage Score: 37.12\t The current score: 37.51\n",
      "Episode 46\tAverage Score: 37.12\t The current score: 37.21\n",
      "Episode 47\tAverage Score: 37.14\t The current score: 37.68\n",
      "Episode 48\tAverage Score: 37.13\t The current score: 36.61\n",
      "Episode 49\tAverage Score: 37.13\t The current score: 37.20\n",
      "Episode 50\tAverage Score: 37.12\t The current score: 36.60\n",
      "Episode 51\tAverage Score: 37.12\t The current score: 37.30\n",
      "Episode 52\tAverage Score: 37.12\t The current score: 37.04\n",
      "Episode 53\tAverage Score: 37.12\t The current score: 37.35\n",
      "Episode 54\tAverage Score: 37.13\t The current score: 37.62\n",
      "Episode 55\tAverage Score: 37.13\t The current score: 36.93\n",
      "Episode 56\tAverage Score: 37.13\t The current score: 37.05\n",
      "Episode 57\tAverage Score: 37.13\t The current score: 37.47\n",
      "Episode 58\tAverage Score: 37.14\t The current score: 37.52\n",
      "Episode 59\tAverage Score: 37.14\t The current score: 36.94\n",
      "Episode 60\tAverage Score: 37.13\t The current score: 36.68\n",
      "Episode 61\tAverage Score: 37.13\t The current score: 37.42\n",
      "Episode 62\tAverage Score: 37.13\t The current score: 37.01\n",
      "Episode 63\tAverage Score: 37.13\t The current score: 37.02\n",
      "Episode 64\tAverage Score: 37.12\t The current score: 36.64\n",
      "Episode 65\tAverage Score: 37.12\t The current score: 36.80\n",
      "Episode 66\tAverage Score: 37.11\t The current score: 36.90\n",
      "Episode 67\tAverage Score: 37.11\t The current score: 36.80\n",
      "Episode 68\tAverage Score: 37.11\t The current score: 36.91\n",
      "Episode 69\tAverage Score: 37.11\t The current score: 37.64\n",
      "Episode 70\tAverage Score: 37.11\t The current score: 36.90\n",
      "Episode 71\tAverage Score: 37.11\t The current score: 37.09\n",
      "Episode 72\tAverage Score: 37.11\t The current score: 36.74\n",
      "Episode 73\tAverage Score: 37.11\t The current score: 37.21\n",
      "Episode 74\tAverage Score: 37.11\t The current score: 36.94\n",
      "Episode 75\tAverage Score: 37.11\t The current score: 37.41\n",
      "Episode 76\tAverage Score: 37.11\t The current score: 37.51\n",
      "Episode 77\tAverage Score: 37.11\t The current score: 37.01\n",
      "Episode 78\tAverage Score: 37.11\t The current score: 37.18\n",
      "Episode 79\tAverage Score: 37.11\t The current score: 37.00\n",
      "Episode 80\tAverage Score: 37.10\t The current score: 36.25\n",
      "Episode 81\tAverage Score: 37.10\t The current score: 37.25\n",
      "Episode 82\tAverage Score: 37.10\t The current score: 37.15\n",
      "Episode 83\tAverage Score: 37.11\t The current score: 37.25\n",
      "Episode 84\tAverage Score: 37.11\t The current score: 37.54\n",
      "Episode 85\tAverage Score: 37.11\t The current score: 37.27\n",
      "Episode 86\tAverage Score: 37.11\t The current score: 37.27\n",
      "Episode 87\tAverage Score: 37.12\t The current score: 37.22\n",
      "Episode 88\tAverage Score: 37.12\t The current score: 37.26\n",
      "Episode 89\tAverage Score: 37.12\t The current score: 37.68\n",
      "Episode 90\tAverage Score: 37.12\t The current score: 36.95\n",
      "Episode 91\tAverage Score: 37.12\t The current score: 36.92\n",
      "Episode 92\tAverage Score: 37.12\t The current score: 36.91\n",
      "Episode 93\tAverage Score: 37.12\t The current score: 37.29\n",
      "Episode 94\tAverage Score: 37.12\t The current score: 37.36\n",
      "Episode 95\tAverage Score: 37.12\t The current score: 37.21\n",
      "Episode 96\tAverage Score: 37.13\t The current score: 37.53\n",
      "Episode 97\tAverage Score: 37.13\t The current score: 37.43\n",
      "Episode 98\tAverage Score: 37.13\t The current score: 37.05\n",
      "Episode 99\tAverage Score: 37.13\t The current score: 37.12\n",
      "The average score is: 37.13\n"
     ]
    },
    {
     "data": {
      "image/png": "[encoded data removed]",
      "text/plain": [
       "<Figure size 432x288 with 1 Axes>"
      ]
     },
     "metadata": {
      "needs_background": "light"
     },
     "output_type": "display_data"
    }
   ],
   "source": [
    "test_eps = 100\n",
    "test_scores_array = []\n",
    "for eps in range(test_eps):\n",
    "    env_info = env.reset(train_mode=True)[brain_name] # reset the environment\n",
    "    states = env_info.vector_observations            # get the current state\n",
    "    test_scores = np.zeros(num_agents)               # initialize the score\n",
    "    testing_steps = 1000\n",
    "    agent_test.reset()\n",
    "    for i in range(testing_steps):\n",
    "        actions = agent_test.act(states)      # select an action\n",
    "        env_info = env.step(actions)[brain_name]        # send the action to the environment\n",
    "        next_states = env_info.vector_observations   # get the next state\n",
    "        rewards = env_info.rewards                 # get the reward\n",
    "        dones = env_info.local_done                  # see if episode has finished\n",
    "        test_scores += rewards                           # update the score\n",
    "        states = next_states                             # roll over the state to next time step\n",
    "        if np.any(dones):                                  # exit loop if episode finished\n",
    "            break\n",
    "    avg_current_score = np.mean(test_scores)\n",
    "    test_scores_array.append(avg_current_score)\n",
    "    print('\\rEpisode {}\\tAverage Score: {:.2f}\\t The current score: {:.2f}'.format(eps, np.mean(test_scores_array),avg_current_score))\n",
    "\n",
    "print(\"The average score is: {:.2f}\".format(np.mean(test_scores_array)))\n",
    "fig2 = plt.figure()\n",
    "ax = fig2.add_subplot(111)\n",
    "plt.plot(np.arange(test_eps), test_scores_array)\n",
    "plt.ylabel('Test_Score')\n",
    "plt.xlabel('Episode')\n",
    "plt.show()"
   ]
  },
  {
   "cell_type": "code",
   "execution_count": 4,
   "metadata": {},
   "outputs": [],
   "source": [
    "env.close()"
   ]
  },
  {
   "cell_type": "code",
   "execution_count": null,
   "metadata": {},
   "outputs": [],
   "source": []
  }
 ],
 "metadata": {
  "kernelspec": {
   "display_name": "Python 3",
   "language": "python",
   "name": "python3"
  },
  "language_info": {
   "codemirror_mode": {
    "name": "ipython",
    "version": 3
   },
   "file_extension": ".py",
   "mimetype": "text/x-python",
   "name": "python",
   "nbconvert_exporter": "python",
   "pygments_lexer": "ipython3",
   "version": "3.6.13"
  }
 },
 "nbformat": 4,
 "nbformat_minor": 2
}
